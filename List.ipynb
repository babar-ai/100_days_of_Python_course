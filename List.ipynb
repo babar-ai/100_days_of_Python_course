{
 "cells": [
  {
   "cell_type": "code",
   "execution_count": null,
   "metadata": {},
   "outputs": [],
   "source": []
  },
  {
   "cell_type": "markdown",
   "metadata": {},
   "source": [
    "# list \n",
    "-  a list is a built-in data structure that is used to store multiple items in a single variable. \n",
    "- Lists are ordered, mutable (changeable), and allow duplicate values.\n",
    "- Heterogeneous – They can store different data types (integers, strings, floats, objects, etc.)."
   ]
  },
  {
   "cell_type": "markdown",
   "metadata": {},
   "source": []
  },
  {
   "cell_type": "code",
   "execution_count": 13,
   "metadata": {},
   "outputs": [
    {
     "name": "stdout",
     "output_type": "stream",
     "text": [
      "[1, 'ali', 'three', 2, 3]\n"
     ]
    }
   ],
   "source": [
    "#to create list\n",
    "mylist = [1, 'ali', 'three', 2, 3]\n",
    "print(mylist)"
   ]
  },
  {
   "cell_type": "code",
   "execution_count": 14,
   "metadata": {},
   "outputs": [
    {
     "data": {
      "text/plain": [
       "5"
      ]
     },
     "execution_count": 14,
     "metadata": {},
     "output_type": "execute_result"
    }
   ],
   "source": [
    "len(mylist)"
   ]
  },
  {
   "cell_type": "markdown",
   "metadata": {},
   "source": [
    "\n",
    "## Negitive Indexing \n"
   ]
  },
  {
   "cell_type": "markdown",
   "metadata": {},
   "source": []
  },
  {
   "cell_type": "code",
   "execution_count": 15,
   "metadata": {},
   "outputs": [
    {
     "name": "stdout",
     "output_type": "stream",
     "text": [
      "three\n"
     ]
    }
   ],
   "source": [
    "print(mylist[len(mylist)-3 ])"
   ]
  },
  {
   "cell_type": "code",
   "execution_count": 16,
   "metadata": {},
   "outputs": [
    {
     "name": "stdout",
     "output_type": "stream",
     "text": [
      "success\n"
     ]
    }
   ],
   "source": [
    "if \"ali\" in mylist:\n",
    "    print(\"success\")"
   ]
  },
  {
   "cell_type": "code",
   "execution_count": 18,
   "metadata": {},
   "outputs": [
    {
     "name": "stdout",
     "output_type": "stream",
     "text": [
      "[1, 'ali', 'three', 2, 3]\n",
      "['ali', 'three', 2]\n"
     ]
    }
   ],
   "source": [
    "#to print all the elements of the list\n",
    "print(mylist[:])\n",
    "print(mylist[1:4])"
   ]
  },
  {
   "cell_type": "markdown",
   "metadata": {},
   "source": [
    "# List Methods:\n",
    "1. append\n",
    "2. sort()\n",
    "3. remove()"
   ]
  },
  {
   "cell_type": "code",
   "execution_count": 19,
   "metadata": {},
   "outputs": [],
   "source": [
    "# List Methods:"
   ]
  },
  {
   "cell_type": "markdown",
   "metadata": {},
   "source": [
    "# List Comprehension\n"
   ]
  },
  {
   "cell_type": "markdown",
   "metadata": {},
   "source": []
  },
  {
   "cell_type": "code",
   "execution_count": 20,
   "metadata": {},
   "outputs": [
    {
     "name": "stdout",
     "output_type": "stream",
     "text": [
      "[0, 1, 4, 9, 16]\n"
     ]
    }
   ],
   "source": [
    "new_list = [i**2 for i in range(5)]\n",
    "print(new_list)"
   ]
  },
  {
   "cell_type": "markdown",
   "metadata": {},
   "source": [
    "# list Methods"
   ]
  },
  {
   "cell_type": "code",
   "execution_count": null,
   "metadata": {},
   "outputs": [
    {
     "name": "stdout",
     "output_type": "stream",
     "text": [
      "[3, 1, 4, 3, 3, 2]\n",
      "[1, 2, 3, 3, 3, 4]\n",
      "[1, 2, 3, 3, 3, 4]\n",
      "3 is occured 3 times\n",
      "copy of numbers list [1, 2, 3, 3, 3, 4]\n"
     ]
    }
   ],
   "source": [
    "numbers = [3, 1, 4, 3, 3]\n",
    "\n",
    "numbers.append(2)  # Adds 2 to the end\n",
    "print(numbers)  # Output: [3, 1, 4, 2]\n",
    "\n",
    "numbers.sort()  # Sorts the list\n",
    "print(numbers)  # Output: [1, 2, 3, 4]\n",
    "\n",
    "# numbers.remove(3)  # Removes first occurrence of 3\n",
    "print(numbers)  # Output: [1, 2, 4]\n",
    "\n",
    "#count method\n",
    "print(f'3 is occured {numbers.count(3)} times')\n",
    "\n",
    "\n"
   ]
  },
  {
   "cell_type": "markdown",
   "metadata": {},
   "source": [
    "# jump index\n",
    "- list[start:stop:step]"
   ]
  },
  {
   "cell_type": "code",
   "execution_count": 27,
   "metadata": {},
   "outputs": [
    {
     "name": "stdout",
     "output_type": "stream",
     "text": [
      "[3, 4, 6]\n"
     ]
    }
   ],
   "source": [
    "numbers = [3, 1, 4, 5, 6, 7]\n",
    "print(numbers[0:5:2])"
   ]
  },
  {
   "cell_type": "code",
   "execution_count": 8,
   "metadata": {},
   "outputs": [
    {
     "name": "stdout",
     "output_type": "stream",
     "text": [
      "copy of numbers list [42, 43, 44, 56]\n",
      "after extending marks list [42, 43, 44, 56, 60, 65]\n"
     ]
    }
   ],
   "source": [
    "marks = [32,43,44,56]\n",
    "\n",
    "#copy() method\n",
    "new_list = marks.copy()\n",
    "new_list[0] = 42\n",
    "print(f'copy of numbers list {new_list}')\n",
    "\n",
    "#to extend list\n",
    "m = [60,65]\n",
    "new_list.extend(m)\n",
    "print(f'after extending marks list {new_list}')"
   ]
  },
  {
   "cell_type": "markdown",
   "metadata": {},
   "source": [
    "print(number[0,2,2])"
   ]
  },
  {
   "cell_type": "markdown",
   "metadata": {},
   "source": []
  }
 ],
 "metadata": {
  "kernelspec": {
   "display_name": "Python 3",
   "language": "python",
   "name": "python3"
  },
  "language_info": {
   "codemirror_mode": {
    "name": "ipython",
    "version": 3
   },
   "file_extension": ".py",
   "mimetype": "text/x-python",
   "name": "python",
   "nbconvert_exporter": "python",
   "pygments_lexer": "ipython3",
   "version": "3.13.2"
  }
 },
 "nbformat": 4,
 "nbformat_minor": 2
}

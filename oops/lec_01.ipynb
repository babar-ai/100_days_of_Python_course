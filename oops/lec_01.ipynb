{
 "cells": [
  {
   "cell_type": "markdown",
   "id": "f2125b9c",
   "metadata": {},
   "source": [
    "## Oop in python\n",
    "\n",
    "- to map real world senarios, we started using objects in code\n",
    "- paradiame shift with time\n",
    "    - procedural Programming  ->  function level Programming  ->  Object Oriented Programming\n",
    "\n",
    "- In Python, everything is an object (numbers, strings, functions, classes, etc.).\n",
    "    - in oops object represent the instance of class\n",
    "\n",
    "- class name will always be started with capital latter"
   ]
  },
  {
   "cell_type": "markdown",
   "id": "53d2ff4f",
   "metadata": {},
   "source": [
    "## Constructor \n",
    "\n",
    "- All classes have a funtion called_init_(), which is always excuted when the object is created of any class\n",
    "- Remember there will be always __init__() fun (constructor) executed, it not depends on wether you have define it or not\n",
    "\n",
    "- when we placed '()' along with class name like v1 = Vihecal() actually it call constructor\n",
    "\n",
    "### self\n",
    "- self parameter is a reference to the current instance or object of class.\n",
    "- self is used to access variables that belongs to the class.\n",
    "- we must have to pass self in each constructor as parameter."
   ]
  },
  {
   "cell_type": "code",
   "execution_count": 4,
   "id": "6298e741",
   "metadata": {},
   "outputs": [
    {
     "name": "stdout",
     "output_type": "stream",
     "text": [
      "Harry potter\n",
      "Joanne Rowling \n"
     ]
    }
   ],
   "source": [
    "#constructor\n",
    "\n",
    "class Book:\n",
    "    \n",
    "    def __init__(self, book_name, auther):\n",
    "        \n",
    "        self.name = book_name\n",
    "        self.auther = auther\n",
    "        \n",
    "        \n",
    "book = Book(\"Harry potter\", \"Joanne Rowling \")\n",
    "print(book.name)\n",
    "print(book.auther)"
   ]
  },
  {
   "cell_type": "markdown",
   "id": "c2d7fb40",
   "metadata": {},
   "source": [
    "### class attribute\n",
    "\n",
    "- A class attribute is a variable that is shared across all objects (instances) of a class.\n",
    "- OR\n",
    "- class attribute is a variable which remains same for all the objects/intances of a class\n",
    "- It belongs to the class itself, not to individual objects."
   ]
  },
  {
   "cell_type": "code",
   "execution_count": 5,
   "id": "d11ebfd3",
   "metadata": {},
   "outputs": [
    {
     "name": "stdout",
     "output_type": "stream",
     "text": [
      "Defence Grammer School\n",
      "Defence Grammer School\n"
     ]
    }
   ],
   "source": [
    "# class attribute\n",
    "class Book:\n",
    "    \n",
    "    school = \"Defence Grammer School\"             # class attribute\n",
    "    \n",
    "    def __init__(self, book_name, auther):\n",
    "        self.name = book_name\n",
    "        self.auther = auther\n",
    "        \n",
    "        \n",
    "book_1 = Book(\"Harry potter\", \"Joanne Rowling \")\n",
    "book_2 = Book(\"rich dad and poor dad\", \"Robert\")\n",
    "\n",
    "#shared with all objects and instanses \n",
    "\n",
    "print(book_1.school)\n",
    "print(book_2.school)"
   ]
  },
  {
   "cell_type": "markdown",
   "id": "49805a7e",
   "metadata": {},
   "source": [
    "## object attribute\n",
    "\n",
    "- An object attribute (often called an instance attribute) is a variable that belongs to a specific object (instance) of a class.\n",
    "- Defined inside the class constructor (__init__) using self.\n",
    "- Each object keeps its own copy, independent of other objects.\n",
    "\n",
    "#### Important \n",
    "\n",
    "- if class attribute and instance/object attribute (define inside __init__ constructor) are with same name then object name presedance is high as compare to class attributes and top priority will be assign to instance attribute. \n",
    "\n",
    "- look at the below example"
   ]
  },
  {
   "cell_type": "code",
   "execution_count": 6,
   "id": "c43374e7",
   "metadata": {},
   "outputs": [
    {
     "name": "stdout",
     "output_type": "stream",
     "text": [
      "Defence Grammer School\n"
     ]
    }
   ],
   "source": [
    "class Book:\n",
    "    \n",
    "    school = \"Al_Muslim school\"             # class attribute\n",
    "    \n",
    "    def __init__(self, book_name, auther, school):\n",
    "        self.name = book_name\n",
    "        self.auther = auther\n",
    "        self.school = school               # object attribute\n",
    "        \n",
    "        \n",
    "book_1 = Book(\"Harry potter\", \"Joanne Rowling\", \"Defence Grammer School\")\n",
    "print(book_1.school)\n"
   ]
  },
  {
   "cell_type": "markdown",
   "id": "84346fbd",
   "metadata": {},
   "source": [
    "## Methods\n",
    "\n",
    "- Methods are objects which belongs to objects(instances) of that class\n",
    "- What the object does (behavior) is known by Methods\n",
    "- important: methods can use and modify object attributes (define inside constructor)\n",
    "\n",
    "### Types of Methods in Python OOP\n",
    "\n",
    "\n",
    "#### 1. Instance Methods\n",
    "- Most common type.\n",
    "- Operate on object (instance) attributes.\n",
    "- Must have self as the first parameter.\n"
   ]
  },
  {
   "cell_type": "code",
   "execution_count": 7,
   "id": "e0cfc3f2",
   "metadata": {},
   "outputs": [
    {
     "name": "stdout",
     "output_type": "stream",
     "text": [
      "Buddy is barking!\n"
     ]
    }
   ],
   "source": [
    "class Dog:\n",
    "    def __init__(self, name):\n",
    "        self.name = name  # object attribute\n",
    "    \n",
    "    def bark(self):       # instance method\n",
    "        print(f\"{self.name} is barking!\")\n",
    "\n",
    "dog1 = Dog(\"Buddy\")\n",
    "dog1.bark()   # Buddy is barking!\n"
   ]
  },
  {
   "cell_type": "markdown",
   "id": "fa481e52",
   "metadata": {},
   "source": [
    "### 2️⃣ Class Methods\n",
    "\n",
    "- Defined with @classmethod decorator.\n",
    "- Take cls as the first parameter (refers to the class, not the object).\n",
    "- Can access/modify class attributes, but not instance attributes directly.\n",
    "\n",
    "- Note : Below is comprehensive example of all three methods\n"
   ]
  },
  {
   "cell_type": "code",
   "execution_count": null,
   "id": "7c63f99d",
   "metadata": {},
   "outputs": [],
   "source": [
    "class Student:\n",
    "    school_name = \"UET Mardan\"   # class variable\n",
    "    \n",
    "    def __init__(self, name, marks):\n",
    "        self.name = name         # instance variable\n",
    "        self.marks = marks\n",
    "    \n",
    "    # Instance Method (needs self → object level)\n",
    "    def display_info(self):\n",
    "        return f\"{self.name} has {self.marks} marks.\"\n",
    "    \n",
    "    # Class Method (needs cls → class level)\n",
    "    @classmethod\n",
    "    def change_school(cls, new_name):\n",
    "        cls.school_name = new_name\n",
    "    \n",
    "    # Static Method (does not need self or cls)\n",
    "    @staticmethod\n",
    "    def calculate_percentage(obtained, total):\n",
    "        return (obtained / total) * 100\n",
    "        \n",
    "\n",
    "# -------- Usage --------\n",
    "# Create an object\n",
    "s1 = Student(\"Babar\", 85)\n",
    "\n",
    "# Instance method → called on object\n",
    "print(s1.display_info())  \n",
    "\n",
    "# Class method → called on class\n",
    "Student.change_school(\"FAST University\")\n",
    "print(Student.school_name)\n",
    "\n",
    "# Static method → utility function (not dependent on object/class state)\n",
    "print(Student.calculate_percentage(85, 100))\n"
   ]
  },
  {
   "cell_type": "markdown",
   "id": "8e8d1ec4",
   "metadata": {},
   "source": [
    "\n",
    "### 3️⃣ Static Methods\n",
    "\n",
    "- Defined with @staticmethod decorator.\n",
    "- Don’t take self or cls.\n",
    "- Behave like normal functions, but are placed inside a class because they’re logically related to it.\n",
    "- static methods can change class attributes nor instance attributes"
   ]
  },
  {
   "cell_type": "code",
   "execution_count": 8,
   "id": "7fcb38ad",
   "metadata": {},
   "outputs": [
    {
     "name": "stdout",
     "output_type": "stream",
     "text": [
      "Mammal\n",
      "8\n"
     ]
    }
   ],
   "source": [
    "class Dog:\n",
    "    species = \"Canine\"\n",
    "    \n",
    "    @classmethod\n",
    "    def change_species(cls, new_species):\n",
    "        cls.species = new_species\n",
    "\n",
    "Dog.change_species(\"Mammal\")\n",
    "print(Dog.species)  # Mammal\n",
    "\n",
    "\n",
    "\n",
    "#Static Methods\n",
    "\n",
    "class Math:\n",
    "    @staticmethod\n",
    "    def add(a, b):\n",
    "        return a + b\n",
    "\n",
    "print(Math.add(5, 3))  # 8\n",
    "\n"
   ]
  },
  {
   "cell_type": "markdown",
   "id": "e2f060b2",
   "metadata": {},
   "source": [
    "### property\n",
    "- we use @property decorator on any method in the class to use the method as a property(attribute)"
   ]
  },
  {
   "cell_type": "code",
   "execution_count": 9,
   "id": "3463c4a9",
   "metadata": {},
   "outputs": [
    {
     "name": "stdout",
     "output_type": "stream",
     "text": [
      "65.0%\n",
      "61.666666666666664%\n"
     ]
    }
   ],
   "source": [
    "class Student:\n",
    "\n",
    "    def __init__(self, math, phsy, comp):\n",
    "        self.math = math\n",
    "        self.phsy = phsy\n",
    "        self.comp = comp\n",
    "\n",
    "    @property\n",
    "    def calculate_perct(self):\n",
    "        return str((self.math + self.phsy + self.comp) / 3.0) + \"%\"\n",
    "    \n",
    "\n",
    "s1 = Student(60, 70, 65)\n",
    "print(s1.calculate_perct)\n",
    "\n",
    "\n",
    "# let's teacher want to update the marks of one subject than calculate percentage\n",
    "\n",
    "s1.math = 50\n",
    "print(s1.calculate_perct)\n",
    "\n"
   ]
  },
  {
   "cell_type": "markdown",
   "id": "2ec2650d",
   "metadata": {},
   "source": [
    "# Practise question\n",
    "\n",
    "- create student class which takes name & marks of 3 subjects as arguments in constructor.\n",
    "- then create a method to print average."
   ]
  },
  {
   "cell_type": "code",
   "execution_count": 12,
   "id": "839843f3",
   "metadata": {},
   "outputs": [
    {
     "name": "stdout",
     "output_type": "stream",
     "text": [
      "average: 26.666666666666668\n"
     ]
    }
   ],
   "source": [
    "class Student:\n",
    "    \n",
    "    def __init__(self, name: str, sub1_marks: int, sub2_marks: int, sub3_marks: int):\n",
    "        \n",
    "        self.name = name\n",
    "        self.sub1_marks = sub1_marks\n",
    "        self.sub2_marks = sub2_marks\n",
    "        self.sub3_marks = sub3_marks\n",
    "        \n",
    "    def average(self):\n",
    "        return (self.sub1_marks + self.sub2_marks + self.sub1_marks) / 3\n",
    "    \n",
    "s1 = Student(\"Babar\", 20, 40, 60 )\n",
    "print(\"average:\",s1.average())"
   ]
  },
  {
   "cell_type": "markdown",
   "id": "d504991f",
   "metadata": {},
   "source": [
    "### IMPORTANT CONCEPTS IN OOP'S ( FOUR PILLERS OF OBJECT ORIENTED PROGRAMMING)\n",
    "\n",
    "- Abstraction\n",
    "- Encapsulation\n",
    "- Inheritance\n",
    "- Polymorphism"
   ]
  },
  {
   "cell_type": "markdown",
   "id": "61d2d7be",
   "metadata": {},
   "source": [
    "#### 1. ABSTRACTION\n",
    "\n",
    "- Abstraction in Object-Oriented Programming is: Hiding the unnecessary details of how something works, and only showing the important features that the user needs.\n",
    "- Abstraction is about what an object does, not how it does it.\n",
    "- It’s different from encapsulation — encapsulation hides data inside an object, while abstraction hides internal logic behind a simple interface.\n",
    "\n",
    "- EXAMPLE\n",
    "    - Driving a car:\n",
    "You turn the steering wheel and press the pedals — you don’t see how the engine, fuel system, or computer software is working inside. The car company has abstracted the complex internal systems and given you a simple interface.\n",
    "\n",
    "- In Python, the abc module is used for implementing using abstract classes or interfaces.\n",
    "\n",
    "\n",
    "### 2. Encapsulation in OOP\n",
    "\n",
    "- wrapping data and funtions into a single unit (object)\n",
    "- Encapsulation is one of the four main pillars of Object-Oriented Programming (OOP) — the others being Abstraction, Inheritance, and Polymorphism.\n",
    "    - You hide the internal details of how something works.\n",
    "    - You only expose the necessary parts to the outside world.\n",
    "\n",
    "- Think of it as data hiding + data protection.\n",
    "\n",
    "- 🔹 Why Encapsulation?\n",
    "\n",
    "    - Data security – Prevents unauthorized access to data.\n",
    "    - Data control – You can control how variables are updated (through methods like getters/setters).\n",
    "    - Flexibility & maintainability – Changes inside the class don’t affect outside code.\n",
    "    - Improved readability – Organizes code better by keeping related variables and functions together.\n",
    "\n",
    "- Real-World Example\n",
    "\n",
    "    - Imagine an ATM machine:\n",
    "    - You see buttons to withdraw, deposit, or check balance.\n",
    "    - But you don’t see how money is transferred between accounts internally.\n",
    "    - The logic is hidden (encapsulated)."
   ]
  },
  {
   "cell_type": "markdown",
   "id": "6614a36e",
   "metadata": {},
   "source": []
  },
  {
   "cell_type": "code",
   "execution_count": 18,
   "id": "c4fd07ef",
   "metadata": {},
   "outputs": [
    {
     "name": "stdout",
     "output_type": "stream",
     "text": [
      "Rs. 2000 is dedacted from your balance, NOW total amount :10000\n",
      "debited 2000 and total amount now is : 10000\n",
      "total balance after credited 1000 is 11000\n"
     ]
    }
   ],
   "source": [
    "# practis question \n",
    "\n",
    "class Account:\n",
    "    \n",
    "    def __init__(self, account_no: str, balance: int):\n",
    "        \n",
    "        self.account_no = account_no\n",
    "        self.balance = balance\n",
    "        \n",
    "    def debit(self, amount):\n",
    "        \n",
    "        self.balance -= amount\n",
    "        print(f\"Rs. {amount} is dedacted from your balance, NOW total amount :{self.balance}\")\n",
    "        print(f\"debited {amount} and total amount now is : {self.get_balance()}\")\n",
    "    \n",
    "    \n",
    "    def credit(self, amount):\n",
    "        \n",
    "        self.balance += amount\n",
    "        print(f\"total balance after credited {amount} is {self.get_balance()}\")\n",
    "        \n",
    "    def get_balance(self):\n",
    "        \n",
    "        return self.balance\n",
    "    \n",
    "\n",
    "A1 = Account(\"123abc\", 12000)\n",
    "A1.debit(2000)\n",
    "A1.credit(1000)\n",
    "# print(A1.balance)"
   ]
  },
  {
   "cell_type": "markdown",
   "id": "8e93ab04",
   "metadata": {},
   "source": [
    "### TO delete object\n"
   ]
  },
  {
   "cell_type": "code",
   "execution_count": null,
   "id": "7a1beb22",
   "metadata": {},
   "outputs": [
    {
     "name": "stdout",
     "output_type": "stream",
     "text": [
      "123\n",
      "123\n"
     ]
    }
   ],
   "source": [
    "\n",
    "class Account:\n",
    "    \n",
    "    def __init__(self, account_no: str, balance: int):\n",
    "        \n",
    "        self.account_no = account_no\n",
    "        self.balance = balance\n",
    "\n",
    "A1 = Account(\"123\", 333)\n",
    "print(A1.account_no)\n",
    "# del A1                           #to delete object \n",
    "print(A1.account_no)"
   ]
  },
  {
   "cell_type": "markdown",
   "id": "63f92186",
   "metadata": {},
   "source": [
    "### Private attributes and methods\n",
    "\n",
    "- private attributes and methods are meant to be used only within class and are not accessible from outside of the class\\\n",
    "- to made any attribute private just type double underscore before variable \n",
    "\n",
    "- Note: we can also made funtion private by just write __ double underscore before funtion name"
   ]
  },
  {
   "cell_type": "code",
   "execution_count": null,
   "id": "9508e619",
   "metadata": {},
   "outputs": [
    {
     "name": "stdout",
     "output_type": "stream",
     "text": [
      "333\n"
     ]
    }
   ],
   "source": [
    "class Account:\n",
    "    \n",
    "    def __init__(self, account_no: str, password: int):\n",
    "        \n",
    "        self.account_no = account_no\n",
    "        self.__password = password              # double underscore before any attribute name made it private\n",
    "\n",
    "\n",
    "    def reset_pass(self):\n",
    "        print(self.__password)\n",
    "\n",
    "\n",
    "    def __calculte_text(self):                # private funtion \n",
    "        pass\n",
    "\n",
    "\n",
    "A1 = Account(\"123\", 333)\n",
    "A1.reset_pass()\n",
    "# print(A1.__password)         # Error : A1 object has no attribute __password bcz its private and can only access inside the class"
   ]
  },
  {
   "cell_type": "markdown",
   "id": "edeff133",
   "metadata": {},
   "source": [
    "### Inheritance\n",
    "\n",
    "- Inheritance is a fundamental concept in OOP that allows one class (child / subclass) to reuse the properties and methods of another class (parent / base class).\n",
    "- when one class derives the properties and methods of anther class (parent/base)\n",
    "\n",
    "#### types of Inheritance\n",
    "\n",
    "- 1. single inheritance\n",
    "- 2. Multi-level Inheritance\n",
    "- 3. Multiple Inheritance"
   ]
  },
  {
   "cell_type": "code",
   "execution_count": null,
   "id": "4e3c6144",
   "metadata": {},
   "outputs": [
    {
     "name": "stdout",
     "output_type": "stream",
     "text": [
      "car has been started\n"
     ]
    },
    {
     "data": {
      "text/plain": [
       "'blue'"
      ]
     },
     "execution_count": 15,
     "metadata": {},
     "output_type": "execute_result"
    }
   ],
   "source": [
    "#Single Inheritance Example\n",
    "\n",
    "class Car:\n",
    "\n",
    "    color = \"blue\"\n",
    "    @staticmethod\n",
    "    def start():\n",
    "        print(\"car has been started\")\n",
    "\n",
    "    @staticmethod\n",
    "    def stop():\n",
    "        print(\"stopped the car\")\n",
    "\n",
    "\n",
    "class ToyotaCar(Car):\n",
    "\n",
    "    def __init__(self, name:str):\n",
    "        self.name = name\n",
    "\n",
    "\n",
    "car1 = ToyotaCar(\"fortuner\")\n",
    "car1.start()\n",
    "car1.color\n"
   ]
  },
  {
   "cell_type": "code",
   "execution_count": 16,
   "id": "8dec2234",
   "metadata": {},
   "outputs": [
    {
     "name": "stdout",
     "output_type": "stream",
     "text": [
      "car has been started\n"
     ]
    },
    {
     "data": {
      "text/plain": [
       "'blue'"
      ]
     },
     "execution_count": 16,
     "metadata": {},
     "output_type": "execute_result"
    }
   ],
   "source": [
    "# Multi_level Inheritance\n",
    "\n",
    " \n",
    "class Car:\n",
    "\n",
    "    color = \"blue\"\n",
    "    @staticmethod\n",
    "    def start():\n",
    "        print(\"car has been started\")\n",
    "\n",
    "    @staticmethod\n",
    "    def stop():\n",
    "        print(\"stopped the car\")\n",
    "\n",
    "\n",
    "\n",
    "class ToyotaCar(Car):\n",
    "\n",
    "    def __init__(self, name:str):\n",
    "        self.name = name\n",
    "\n",
    "\n",
    "\n",
    "class Fortuner(ToyotaCar):\n",
    "\n",
    "    def __init__(self, model):\n",
    "        self.model = model\n",
    "\n",
    "\n",
    "car1 = ToyotaCar(\"fortuner\")\n",
    "car1.start()\n",
    "car1.color\n"
   ]
  },
  {
   "cell_type": "code",
   "execution_count": 3,
   "id": "b3bc7fdb",
   "metadata": {},
   "outputs": [
    {
     "name": "stdout",
     "output_type": "stream",
     "text": [
      "Car has been started\n",
      "car type is  Fortuner\n"
     ]
    }
   ],
   "source": [
    "# Multilevel inheritance\n",
    "\n",
    "# Base class\n",
    "class Car:\n",
    "\n",
    "    def __init__(self, type:str):\n",
    "        self.type = type\n",
    "\n",
    "\n",
    "    def start(self):\n",
    "        print(\"Car has been started\")\n",
    "\n",
    "\n",
    "    def stop(self):\n",
    "        print(\"Car has been stopped\")\n",
    "\n",
    "\n",
    "\n",
    "class Toyota(Car):\n",
    "    \n",
    "    def __init__(self, model:str, type:str):\n",
    "        self.model = model\n",
    "        super().__init__(type)                       #to initialized the constructor of car (parent) class we will use super() method\n",
    "        super().start()\n",
    "\n",
    "    \n",
    "\n",
    "car1 = Toyota(\"863A\", \"Fortuner\")\n",
    "print(\"car type is \", car1.type)\n",
    "\n",
    "\n",
    "\n"
   ]
  },
  {
   "cell_type": "markdown",
   "id": "b234ffda",
   "metadata": {},
   "source": [
    "### Super() method\n",
    "\n",
    "- super() method is used to access the methods of parent class.\n"
   ]
  },
  {
   "cell_type": "code",
   "execution_count": null,
   "id": "ff64df34",
   "metadata": {},
   "outputs": [],
   "source": [
    "# Base class\n",
    "class Car:\n",
    "    def start(self):\n",
    "        print(\"Car has been started\")\n",
    "\n",
    "    def stop(self):\n",
    "        print(\"Car has been stopped\")\n",
    "\n",
    "# Derived class (inherits from Car)\n",
    "class Toyota():\n",
    "    def brand(self):\n",
    "        print(\"This is a Toyota car\")"
   ]
  },
  {
   "cell_type": "markdown",
   "id": "88d11760",
   "metadata": {},
   "source": [
    "### getter() and setter() methods\n",
    "\n",
    "- Getter method → Used to access (read) the value of a private/protected attribute.\n",
    "- Setter method → Used to update (write/change) the value of a private/protected attribute safely.\n",
    "- Python has a cleaner way with the @property decorator.\n",
    "\n"
   ]
  },
  {
   "cell_type": "code",
   "execution_count": 1,
   "id": "ec8f25bd",
   "metadata": {},
   "outputs": [
    {
     "name": "stdout",
     "output_type": "stream",
     "text": [
      "20\n",
      "22\n",
      "Age must be positive\n"
     ]
    }
   ],
   "source": [
    "class Student:\n",
    "    def __init__(self, name, age):\n",
    "        self.__name = name\n",
    "        self.__age = age\n",
    "    \n",
    "    # Getter\n",
    "    @property\n",
    "    def age(self):\n",
    "        return self.__age\n",
    "    \n",
    "    # Setter\n",
    "    @age.setter\n",
    "    def age(self, value):\n",
    "        if value > 0:\n",
    "            self.__age = value\n",
    "        else:\n",
    "            print(\"Age must be positive\")\n",
    "\n",
    "# Usage\n",
    "s = Student(\"Ali\", 20)\n",
    "print(s.age)   # ✅ calls getter\n",
    "\n",
    "s.age = 22     # ✅ calls setter\n",
    "print(s.age)   # ✅ 22\n",
    "\n",
    "s.age = -3     # ❌ Age must be positive\n"
   ]
  },
  {
   "cell_type": "markdown",
   "id": "92fc9e80",
   "metadata": {},
   "source": [
    "## Polymorphism\n",
    "\n",
    "- The word Polymorphism comes from Greek:\n",
    "    - Poly → many\n",
    "    - Morph → forms\n",
    "\n",
    "- 👉 In OOP, polymorphism means the same function, method, or operator behaves differently depending on the object or data type.\n",
    "- It increases flexibility and reusability of code.\n",
    "\n",
    "Types of Polymorphism in Python\n",
    "\n",
    "- 1. Polymorphism with Functions and Objects\n",
    "- 2. Polymorphism with Inheritance (Method Overriding)\n",
    "- 3. Operator Overloading"
   ]
  },
  {
   "cell_type": "markdown",
   "id": "ed250e8d",
   "metadata": {},
   "source": []
  }
 ],
 "metadata": {
  "kernelspec": {
   "display_name": "Python 3",
   "language": "python",
   "name": "python3"
  },
  "language_info": {
   "codemirror_mode": {
    "name": "ipython",
    "version": 3
   },
   "file_extension": ".py",
   "mimetype": "text/x-python",
   "name": "python",
   "nbconvert_exporter": "python",
   "pygments_lexer": "ipython3",
   "version": "3.13.7"
  }
 },
 "nbformat": 4,
 "nbformat_minor": 5
}

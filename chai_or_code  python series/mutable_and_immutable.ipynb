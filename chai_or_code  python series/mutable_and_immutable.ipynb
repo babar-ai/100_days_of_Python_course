{
 "cells": [
  {
   "cell_type": "markdown",
   "metadata": {},
   "source": [
    "# Memory Representation of Mutable vs. Immutable Objects\n",
    "- When an object is created in Python, it gets stored in memory. This memory location is identified by the object's ID (which you can check using id()).\n",
    "\n",
    "## Immutable Objects in Memory (Shared Storage)\n",
    "- Immutable objects (like int, str, tuple) do not allow modification because they are stored in a way that prevents changes.\n",
    "Instead of modifying, Python creates a new object when a change is required."
   ]
  },
  {
   "cell_type": "code",
   "execution_count": 2,
   "metadata": {},
   "outputs": [
    {
     "name": "stdout",
     "output_type": "stream",
     "text": [
      "140703174297128\n",
      "140703174297160\n"
     ]
    }
   ],
   "source": [
    "x = 21\n",
    "print(id(x))\n",
    "\n",
    "#lets i want to modify the int variable\n",
    "x = 22\n",
    "print(id(x))"
   ]
  },
  {
   "cell_type": "code",
   "execution_count": null,
   "metadata": {},
   "outputs": [
    {
     "name": "stdout",
     "output_type": "stream",
     "text": [
      "2\n",
      "2\n"
     ]
    }
   ],
   "source": [
    "# example 2\n",
    "x = 2\n",
    "y = x\n",
    "print(y)\n",
    "\n",
    "#now lets we change the value of x \n",
    "x = 15\n",
    "#what will be the value of y now?\n",
    "print(y)  #not change bcs when we create a new object in memory a new memory reference if assign to that variable. see code and chaee \"mutabale and immutable vedio\" if not clear. but it is simple concept\n"
   ]
  },
  {
   "cell_type": "code",
   "execution_count": null,
   "metadata": {},
   "outputs": [],
   "source": []
  },
  {
   "cell_type": "markdown",
   "metadata": {},
   "source": []
  }
 ],
 "metadata": {
  "kernelspec": {
   "display_name": "Python 3",
   "language": "python",
   "name": "python3"
  },
  "language_info": {
   "codemirror_mode": {
    "name": "ipython",
    "version": 3
   },
   "file_extension": ".py",
   "mimetype": "text/x-python",
   "name": "python",
   "nbconvert_exporter": "python",
   "pygments_lexer": "ipython3",
   "version": "3.13.2"
  }
 },
 "nbformat": 4,
 "nbformat_minor": 2
}

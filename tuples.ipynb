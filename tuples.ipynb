{
 "cells": [
  {
   "cell_type": "markdown",
   "metadata": {},
   "source": [
    "# tuple\n",
    "A tuple in Python is an ordered, immutable collection of elements. It is similar to a list but cannot be modified (i.e., you cannot change, add, or remove elements after creation). Tuples are defined using parentheses () and can hold multiple data types.\n",
    "\n",
    "- Key Features of Tuples\n",
    "- Immutable: Once created, elements cannot be changed.\n",
    "- Ordered: Elements maintain their position. there is only set which may not mantain order\n",
    "- Allows Duplicates: Tuples can contain duplicate values.\n",
    "- Supports Multiple Data Types: A tuple can store integers, floats, strings, lists, or even other tuples.\n",
    "-  cannot be modified after creation (i.e., you cannot add, remove, or change elements in a tuple).\n",
    "- Supports Indexing and Slicing – You can access elements using an index, just like a list.\n",
    "- slicing in tuple is same to same as in list\n",
    "\n",
    "# Advantages of Tuples\n",
    "- Faster than lists (due to immutability).\n",
    "- Memory-efficient.\n",
    "- Safe from accidental modifications"
   ]
  },
  {
   "cell_type": "code",
   "execution_count": 13,
   "metadata": {},
   "outputs": [
    {
     "name": "stdout",
     "output_type": "stream",
     "text": [
      "(1, 2, 'three', 4)\n",
      "(1, 2, 'three', 4, 5, 1, 2, 'three', 4)\n",
      "total numeber of \"4\" in tuple t2 is 2\n",
      "element \"three\" is occured on index 2\n",
      "the index of the first occurance of the \"2\" bt 3 to 8 indexes\n",
      "6\n",
      "length of the tuple is 9\n"
     ]
    }
   ],
   "source": [
    "#create a tuple\n",
    "t1 = (1,2,\"three\", 4, 5)\n",
    "\n",
    "#try to add element in tuple\n",
    "# t1[0] = 2   #error bcz we cannot modify the tuple\n",
    "\n",
    "#rathere we can create anther tupe from the existing tuple\n",
    "t2 = tuple(x for x in t1 if x != 5)\n",
    "print(t2)\n",
    "\n",
    "#merging two tuples\n",
    "t3 = t1+t2\n",
    "print(t3)\n",
    "\n",
    "#count() in tuple\n",
    "print(f'total numeber of \"4\" in tuple t2 is {t3.count(4)}')\n",
    "\n",
    "#to find the index of specific element in tuple like in t3\n",
    "print(f'element \"three\" is occured on index {t3.index(\"three\")}')\n",
    "\n",
    "#if we want to find the any element in specific tuple length\n",
    "#syntax\n",
    "#tuple.index(element, start, end)\n",
    "print(f'the index of the first occurance of the \"2\" bt 3 to 8 indexes')\n",
    "print(t3.index(2, 3, 8))\n",
    "\n",
    "#length of tuple\n",
    "print(f\"length of the tuple is {len(t3)}\")"
   ]
  },
  {
   "cell_type": "markdown",
   "metadata": {},
   "source": [
    "# changing tuple into list\n",
    "- by conveting tuple into list we can perform all the opeation of list and then we can convert again it into tuple \n",
    "- this is the only way to play with tuple just like a list "
   ]
  },
  {
   "cell_type": "code",
   "execution_count": 24,
   "metadata": {},
   "outputs": [
    {
     "name": "stdout",
     "output_type": "stream",
     "text": [
      "[1, 3, 2, 3, 4, 5]\n",
      "(1, 3, 2, 3, 4, 5)\n"
     ]
    }
   ],
   "source": [
    "# Define a tuple\n",
    "my_tuple = (1, 2, 3, 4, 5)\n",
    "\n",
    "# Convert tuple to list\n",
    "my_list = list(my_tuple)\n",
    "\n",
    "#let add element into my_list\n",
    "my_list.insert(1,3)\n",
    "print(my_list) \n",
    "\n",
    "#lets again convert back list into tuple\n",
    "mytuple = tuple(my_list)\n",
    "print(mytuple)\n"
   ]
  },
  {
   "cell_type": "markdown",
   "metadata": {},
   "source": []
  }
 ],
 "metadata": {
  "kernelspec": {
   "display_name": "Python 3",
   "language": "python",
   "name": "python3"
  },
  "language_info": {
   "codemirror_mode": {
    "name": "ipython",
    "version": 3
   },
   "file_extension": ".py",
   "mimetype": "text/x-python",
   "name": "python",
   "nbconvert_exporter": "python",
   "pygments_lexer": "ipython3",
   "version": "3.13.2"
  }
 },
 "nbformat": 4,
 "nbformat_minor": 2
}

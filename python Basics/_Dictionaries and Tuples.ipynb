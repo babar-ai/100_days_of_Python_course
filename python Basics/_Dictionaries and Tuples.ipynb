{
 "cells": [
  {
   "cell_type": "markdown",
   "id": "b5c8593d",
   "metadata": {},
   "source": [
    "\n"
   ]
  },
  {
   "cell_type": "markdown",
   "id": "a8377fb7",
   "metadata": {},
   "source": [
    "# Dictionaries\n",
    "- also known as Maps , Hashtable , Associated array\n",
    "- In Python, a dictionary is a mutable, unordered collection of items where each item is stored as a key-value pair.\n",
    "    - Mutable: Dictionaries can be modified after creation, allowing for the addition, deletion, and modification of key-value pairs.\n",
    "     - Unordered: As of Python 3.7, dictionaries maintain the insertion order of keys, but this is not a feature to rely on for behavior in earlier versions.\n",
    "- Dictionaries are optimized to retrieve values when the key is known.\n",
    "- Key-Value Pairs: Each key in a dictionary must be unique and immutable (e.g., strings, numbers, tuples), while values can be of any data type.\n",
    "- remember: tuples and lists are ordered where dictionaries are unordered"
   ]
  },
  {
   "cell_type": "code",
   "execution_count": 16,
   "id": "1f020aec",
   "metadata": {},
   "outputs": [
    {
     "name": "stdout",
     "output_type": "stream",
     "text": [
      "3079893549\n",
      "3079893549\n"
     ]
    }
   ],
   "source": [
    "#example \n",
    "mydec = {\"baber\": 3079893549,\"shayan\": 3052312883}\n",
    "\n",
    "# printing the value of dictionary---> dictionary_name[key]\n",
    "print(mydec['baber'])\n",
    "\n",
    "#anther way of gitting the key of dictionary\n",
    "print(mydec.get('baber')) #3079893549\n"
   ]
  },
  {
   "cell_type": "code",
   "execution_count": 3,
   "id": "8a34addc",
   "metadata": {},
   "outputs": [
    {
     "name": "stdout",
     "output_type": "stream",
     "text": [
      "200\n",
      "22mdbcs241\n",
      "A\n",
      "\n",
      "THROUGH ITERATION\n",
      "MARKS 200\n",
      "Reg No 22mdbcs241\n",
      "GRADE A\n"
     ]
    }
   ],
   "source": [
    " #dictionary with mixed key\n",
    "dict = {\"MARKS\":200, \"Reg No\" : \"22mdbcs241\", \"GRADE\" : 'A'}\n",
    "print(dict[\"MARKS\"])\n",
    "print(dict[\"Reg No\"])\n",
    "print(dict[\"GRADE\"])\n",
    "\n",
    "#LETS iterate \n",
    "print(\"\\nTHROUGH ITERATION\")\n",
    "for key, values in dict.items():\n",
    "    print(key, values)\n",
    "    \n"
   ]
  },
  {
   "cell_type": "markdown",
   "id": "86e50a94",
   "metadata": {},
   "source": [
    "### dictionary with a list of tuples"
   ]
  },
  {
   "cell_type": "code",
   "execution_count": 15,
   "id": "071e8970",
   "metadata": {},
   "outputs": [
    {
     "name": "stdout",
     "output_type": "stream",
     "text": [
      "([(1, 'baber')], [(2, 'shayan')])\n"
     ]
    }
   ],
   "source": [
    "mydic = ([(1,\"baber\")],[(2,\"shayan\")])\n",
    "print(mydic[:])"
   ]
  },
  {
   "cell_type": "markdown",
   "id": "4a818db0",
   "metadata": {},
   "source": [
    "### Add or Modify the element of dic"
   ]
  },
  {
   "cell_type": "code",
   "execution_count": null,
   "id": "64e17a88",
   "metadata": {},
   "outputs": [
    {
     "name": "stdout",
     "output_type": "stream",
     "text": [
      "zeshan\n",
      "shayan\n"
     ]
    }
   ],
   "source": [
    "#update the value of key\n",
    "mydic = {}\n",
    "mydic = {1:'baber', 2:\"raheem\"}\n",
    "mydic[1] = \"zeshan\"\n",
    "print(mydic[1])\n",
    "\n",
    "#add a new key\n",
    "mydic[3] = \"shayan\"\n",
    "print(mydic[3])"
   ]
  },
  {
   "cell_type": "markdown",
   "id": "94e0b29f",
   "metadata": {},
   "source": [
    "### delete or remove element from dictionary\n",
    "- to delete a particular item\n",
    "  - dictionary_name.pop(key)  \n",
    " \n",
    "- to remove an arbitarty key\n",
    "   - mydic.popitem()\n",
    "   \n",
    "- to delete a particular item\n",
    "  - del dictionray_name[key]\n",
    "  \n",
    "- to remove all the elements of dictionary\n",
    "    - dictionary_name.clear()      \n",
    "    - this delete the entire dictionary including name of dictionary"
   ]
  },
  {
   "cell_type": "code",
   "execution_count": 26,
   "id": "d5545c48",
   "metadata": {},
   "outputs": [
    {
     "name": "stdout",
     "output_type": "stream",
     "text": [
      "{1: 'ali', 3: 'tayyab', 4: 'shayan'}\n",
      "{1: 'ali', 4: 'shayan'}\n",
      "{}\n"
     ]
    }
   ],
   "source": [
    "mydec = {1:\"ali\",2:\"baber\",3:\"tayyab\",4:\"shayan\"}\n",
    "\n",
    "mydec.pop(2)  #have deleted key 2\n",
    "print(mydec)\n",
    "\n",
    "del mydec[3]\n",
    "print(mydec)\n",
    "\n",
    "#to delete the entire dictionary\n",
    "mydec.clear()\n",
    "print(mydec)       #the dictionary is completely empty"
   ]
  },
  {
   "cell_type": "markdown",
   "id": "b8ced47d",
   "metadata": {},
   "source": [
    "### Practise\n"
   ]
  },
  {
   "cell_type": "code",
   "execution_count": 4,
   "id": "868d5ff4",
   "metadata": {},
   "outputs": [
    {
     "name": "stdout",
     "output_type": "stream",
     "text": [
      "shahzaib is also in top three students\n"
     ]
    }
   ],
   "source": [
    "students = {\"ali\":21, \"shahzaib\":34, \"tayyab\":25}\n",
    "\n",
    "if \"shahzaib\" in students:\n",
    "    print(\"shahzaib is also in top three students\")"
   ]
  },
  {
   "cell_type": "code",
   "execution_count": 8,
   "id": "7eedc027",
   "metadata": {},
   "outputs": [
    {
     "data": {
      "text/plain": [
       "2509077675328"
      ]
     },
     "execution_count": 8,
     "metadata": {},
     "output_type": "execute_result"
    }
   ],
   "source": [
    "students.popitem()    #pop item remove the most recent value added into dictionary\n",
    "id(students)"
   ]
  },
  {
   "cell_type": "code",
   "execution_count": 7,
   "id": "b50bc33a",
   "metadata": {},
   "outputs": [
    {
     "name": "stdout",
     "output_type": "stream",
     "text": [
      "{'ali': 21, 'shahzaib': 34}\n"
     ]
    },
    {
     "data": {
      "text/plain": [
       "2509077716672"
      ]
     },
     "execution_count": 7,
     "metadata": {},
     "output_type": "execute_result"
    }
   ],
   "source": [
    "#to create a copy() of dictionary\n",
    "students_copy = students.copy()\n",
    "print(students_copy)\n",
    "id(students_copy)"
   ]
  },
  {
   "cell_type": "markdown",
   "id": "002625bb",
   "metadata": {},
   "source": [
    "## Nested dictionary"
   ]
  },
  {
   "cell_type": "code",
   "execution_count": 11,
   "id": "1a913470",
   "metadata": {},
   "outputs": [
    {
     "name": "stdout",
     "output_type": "stream",
     "text": [
      "{'std 1': {'name': 'Hadir', 'Reg no': '22mdbcs241', 'dept': 'CS'}, 'std 2': {'name': 'basit', 'Reg no': '22mdbcs242', 'dept': 'CS'}}\n"
     ]
    }
   ],
   "source": [
    "students_data = {\n",
    "    \"std 1\": {\n",
    "        \"name\": \"Hadir\",\n",
    "        \"Reg no\": \"22mdbcs241\",\n",
    "        \"dept\": \"CS\"\n",
    "    },\n",
    "    \n",
    "    \"std 2\": {\n",
    "       \"name\": \"basit\",\n",
    "        \"Reg no\": \"22mdbcs242\",\n",
    "        \"dept\": \"CS\"\n",
    "    }\n",
    "\n",
    "}\n",
    "print(students_data)\n"
   ]
  },
  {
   "cell_type": "code",
   "execution_count": 12,
   "id": "c254c6d7",
   "metadata": {},
   "outputs": [
    {
     "name": "stdout",
     "output_type": "stream",
     "text": [
      "Hadir\n",
      "CS\n"
     ]
    }
   ],
   "source": [
    "#Accessing values of nested dictionary\n",
    "print(students_data[\"std 1\"][\"name\"])\n",
    "print(students_data[\"std 1\"][\"dept\"])"
   ]
  },
  {
   "cell_type": "markdown",
   "id": "ced92f20",
   "metadata": {},
   "source": [
    "## Dictionary Comprehension in Python\n",
    "Dictionary comprehension is a concise way to create dictionaries in Python using a single line of code."
   ]
  },
  {
   "cell_type": "code",
   "execution_count": 13,
   "id": "d3d56068",
   "metadata": {},
   "outputs": [
    {
     "name": "stdout",
     "output_type": "stream",
     "text": [
      "{0: 0, 1: 1, 2: 4, 3: 9, 4: 16}\n"
     ]
    }
   ],
   "source": [
    "squared_numbers = {x: x**2 for x in range(5)}\n",
    "print(squared_numbers)\n",
    "# Output: {0: 0, 1: 1, 2: 4, 3: 9, 4: 16}\n"
   ]
  },
  {
   "cell_type": "code",
   "execution_count": 14,
   "id": "0b27f28d",
   "metadata": {},
   "outputs": [
    {
     "name": "stdout",
     "output_type": "stream",
     "text": [
      "{'Alice': 25, 'Charlie': 30}\n"
     ]
    }
   ],
   "source": [
    "ages = {\"Alice\": 25, \"Bob\": 17, \"Charlie\": 30}\n",
    "adults = {name: age for name, age in ages.items() if age >= 18}\n",
    "print(adults)\n",
    "# Output: {'Alice': 25, 'Charlie': 30}\n"
   ]
  },
  {
   "cell_type": "markdown",
   "id": "7a538787",
   "metadata": {},
   "source": [
    "### clear() & del() in dictionary"
   ]
  },
  {
   "cell_type": "code",
   "execution_count": 18,
   "id": "7b11a66f",
   "metadata": {},
   "outputs": [
    {
     "ename": "NameError",
     "evalue": "name 'students' is not defined",
     "output_type": "error",
     "traceback": [
      "\u001b[1;31m---------------------------------------------------------------------------\u001b[0m",
      "\u001b[1;31mNameError\u001b[0m                                 Traceback (most recent call last)",
      "Cell \u001b[1;32mIn[18], line 2\u001b[0m\n\u001b[0;32m      1\u001b[0m \u001b[38;5;66;03m# to remove all the pair key values of the student dictionary\u001b[39;00m\n\u001b[1;32m----> 2\u001b[0m \u001b[43mstudents\u001b[49m\u001b[38;5;241m.\u001b[39mclear()\n\u001b[0;32m      3\u001b[0m \u001b[38;5;28mprint\u001b[39m(students)\n",
      "\u001b[1;31mNameError\u001b[0m: name 'students' is not defined"
     ]
    }
   ],
   "source": [
    "# to remove all the pair key values of the student dictionary\n",
    "students.clear()\n",
    "print(students)"
   ]
  },
  {
   "cell_type": "code",
   "execution_count": null,
   "id": "ad6009e0",
   "metadata": {},
   "outputs": [
    {
     "ename": "NameError",
     "evalue": "name 'students' is not defined",
     "output_type": "error",
     "traceback": [
      "\u001b[1;31m---------------------------------------------------------------------------\u001b[0m",
      "\u001b[1;31mNameError\u001b[0m                                 Traceback (most recent call last)",
      "Cell \u001b[1;32mIn[17], line 2\u001b[0m\n\u001b[0;32m      1\u001b[0m \u001b[38;5;66;03m# to permanantly delelte dictionary \u001b[39;00m\n\u001b[1;32m----> 2\u001b[0m \u001b[38;5;28;01mdel\u001b[39;00m \u001b[43mstudents\u001b[49m\n\u001b[0;32m      3\u001b[0m \u001b[38;5;28mprint\u001b[39m(students)\n",
      "\u001b[1;31mNameError\u001b[0m: name 'students' is not defined"
     ]
    }
   ],
   "source": [
    "# to permanantly delelte dictionary \n",
    "del students\n",
    "print(students)    #NameError: name 'students' is not defined"
   ]
  },
  {
   "cell_type": "code",
   "execution_count": null,
   "id": "6c1b81fb",
   "metadata": {},
   "outputs": [],
   "source": []
  }
 ],
 "metadata": {
  "kernelspec": {
   "display_name": "Python 3",
   "language": "python",
   "name": "python3"
  },
  "language_info": {
   "codemirror_mode": {
    "name": "ipython",
    "version": 3
   },
   "file_extension": ".py",
   "mimetype": "text/x-python",
   "name": "python",
   "nbconvert_exporter": "python",
   "pygments_lexer": "ipython3",
   "version": "3.13.2"
  }
 },
 "nbformat": 4,
 "nbformat_minor": 5
}

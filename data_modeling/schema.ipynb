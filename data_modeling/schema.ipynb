{
 "cells": [
  {
   "cell_type": "markdown",
   "id": "744fd1f2",
   "metadata": {},
   "source": [
    "### 3. Schema\n",
    "\n",
    "- Schema is a blueprint/contract describing the structure of data.\n",
    "\n",
    "- It is not Python code — it’s a description (often JSON Schema or OpenAPI).\n",
    "\n",
    "- Pydantic(Data Models) can generate schemas automatically from its data models.\n",
    "\n",
    "- Dataclasses cannot generate schemas by default."
   ]
  },
  {
   "cell_type": "code",
   "execution_count": null,
   "id": "f7339cc3",
   "metadata": {},
   "outputs": [],
   "source": [
    "print(User.model_json_schema())\n",
    " \n",
    "\n",
    "# output\n",
    "\n",
    "{\n",
    "  \"title\": \"User\",\n",
    "  \"type\": \"object\",\n",
    "  \"properties\": {\n",
    "    \"id\": { \"title\": \"Id\", \"type\": \"integer\" },\n",
    "    \"name\": { \"title\": \"Name\", \"type\": \"string\" },\n",
    "    \"email\": { \"title\": \"Email\", \"type\": \"string\", \"format\": \"email\" }\n",
    "  },\n",
    "  \"required\": [\"id\", \"name\", \"email\"]\n",
    "}\n"
   ]
  }
 ],
 "metadata": {
  "language_info": {
   "name": "python"
  }
 },
 "nbformat": 4,
 "nbformat_minor": 5
}

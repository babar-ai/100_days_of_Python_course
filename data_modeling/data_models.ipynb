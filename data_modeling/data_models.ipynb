{
 "cells": [
  {
   "cell_type": "markdown",
   "id": "6b8b181e",
   "metadata": {},
   "source": [
    "### Data Models (Pydantic Models)\n",
    "\n",
    "- A data model is a structured representation of data in your application.\n",
    "- Also known by Pydantic Models\n",
    "- These are classes built with Pydantic’s BaseModel.\n",
    "- They look similar to dataclasses but add validation and parsing.\n",
    "- Used heavily in FastAPI and modern Python projects.\n",
    "\n",
    "- Note: So Pydantic data models = dataclass + validation/parsing."
   ]
  },
  {
   "cell_type": "code",
   "execution_count": null,
   "id": "ab206dfe",
   "metadata": {},
   "outputs": [],
   "source": [
    "from pydantic import BaseModel\n",
    "\n",
    "class User(BaseModel):            # here User is data_model, it describe how the user looks like inside our application\n",
    "    id: int\n",
    "    name: str\n",
    "    email: str\n"
   ]
  },
  {
   "cell_type": "code",
   "execution_count": null,
   "id": "4191ce01",
   "metadata": {},
   "outputs": [],
   "source": [
    "from pydantic import BaseModel, EmailStr\n",
    "\n",
    "class User(BaseModel):\n",
    "    id: int\n",
    "    name: str\n",
    "    email: EmailStr   # validates email format\n",
    "\n",
    "user = User(id=\"1\", name=\"Alice\", email=\"alice@example.com\")\n",
    "print(user.id)     # 1  (parsed into int)\n",
    "print(user.email)  # \"alice@example.com\"\n",
    "\n",
    "\n"
   ]
  },
  {
   "cell_type": "markdown",
   "id": "0cd3e955",
   "metadata": {},
   "source": []
  }
 ],
 "metadata": {
  "language_info": {
   "name": "python"
  }
 },
 "nbformat": 4,
 "nbformat_minor": 5
}

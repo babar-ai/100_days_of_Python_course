{
 "cells": [
  {
   "cell_type": "markdown",
   "id": "976954a8",
   "metadata": {},
   "source": [
    "### 1. Dataclasses (Python standard library)\n",
    "\n",
    "- Provide a simple way to create classes for storing data without writing boilerplate code (like __init__, __repr__, etc.).\n",
    "\n",
    "- They don’t validate or parse input — they just hold data.\n",
    "\n",
    "- dataclass is just a container which store data but have no validation \n",
    "\n",
    "\n"
   ]
  },
  {
   "cell_type": "code",
   "execution_count": null,
   "id": "abf3512a",
   "metadata": {},
   "outputs": [],
   "source": [
    "#Example of Dataclasses\n",
    "\n",
    "from dataclasses import dataclass\n",
    "\n",
    "@dataclass\n",
    "class User:\n",
    "    id: int\n",
    "    name: str\n",
    "    email: str\n",
    "\n",
    "user = User(id=1, name=\"Alice\", email=\"alice@example.com\")\n",
    "print(user)  # User(id=1, name='Alice', email='alice@example.com')\n",
    "\n",
    "# note that in datamodel if we pass id=\"a12\" it will generate validation error where data class does'nt."
   ]
  }
 ],
 "metadata": {
  "language_info": {
   "name": "python"
  }
 },
 "nbformat": 4,
 "nbformat_minor": 5
}
